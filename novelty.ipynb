{
 "cells": [
  {
   "cell_type": "code",
   "execution_count": 3,
   "id": "cc3c0401",
   "metadata": {},
   "outputs": [],
   "source": [
    "import pandas as pd\n",
    "from sklearn.neighbors import KNeighborsClassifier\n",
    "from datamarket import *"
   ]
  },
  {
   "cell_type": "code",
   "execution_count": 4,
   "id": "06f58cf2",
   "metadata": {},
   "outputs": [],
   "source": [
    "df = pd.read_csv(\"3D_spatial_network.txt\", names=['id', 'f1', 'f2', 'result'], header=None)"
   ]
  },
  {
   "cell_type": "code",
   "execution_count": 2,
   "id": "5c06fc96",
   "metadata": {},
   "outputs": [],
   "source": [
    "def feature_partition_bits(f, n):\n",
    "    f1min = df[f].min()\n",
    "    f1max = df[f].max()\n",
    "    step = (f1max - f1min)/n\n",
    "\n",
    "    f_bits = []\n",
    "    left = f1min\n",
    "    right = f1min + step\n",
    "    for i in range(n):\n",
    "        f_bits.append((df[f] >= left) & (df[f] <= right))\n",
    "        right += step\n",
    "        left += step\n",
    "    return f_bits"
   ]
  },
  {
   "cell_type": "code",
   "execution_count": 5,
   "id": "2718d212",
   "metadata": {},
   "outputs": [
    {
     "data": {
      "text/plain": [
       "cov:s::f1                   8.300611\n",
       "cov:s::f2                  56.656966\n",
       "cov:s::result               9.060399\n",
       "cov:c                       1.000000\n",
       "cov:Q::f1,:f1              68.916825\n",
       "cov:Q::f1,:f2             470.289354\n",
       "cov:Q::f1,:result          76.085592\n",
       "cov:Q::f2,:f2            3210.013646\n",
       "cov:Q::f2,:result         513.567046\n",
       "cov:Q::result,:result     241.062451\n",
       "dtype: float64"
      ]
     },
     "execution_count": 5,
     "metadata": {},
     "output_type": "execute_result"
    }
   ],
   "source": [
    "# test data\n",
    "f1_bits = feature_partition_bits(\"f1\",8)\n",
    "f2_bits = feature_partition_bits(\"f2\",8)\n",
    "test = df[f1_bits[0] & f2_bits[0]].sample(n=2000, random_state=5)\n",
    "testdata = agg_dataset()\n",
    "testdata.load(test.copy(), [\"f1\",\"f2\",\"result\"], [], \"\")\n",
    "testdata.compute_agg(True)\n",
    "testdata.covariance"
   ]
  },
  {
   "cell_type": "code",
   "execution_count": 35,
   "id": "836efeaf",
   "metadata": {},
   "outputs": [
    {
     "name": "stderr",
     "output_type": "stream",
     "text": [
      "/home/jupyter/arda/arda-datasets/school/datamarket.py:198: SettingWithCopyWarning: \n",
      "A value is trying to be set on a copy of a slice from a DataFrame.\n",
      "Try using .loc[row_indexer,col_indexer] = value instead\n",
      "\n",
      "See the caveats in the documentation: https://pandas.pydata.org/pandas-docs/stable/user_guide/indexing.html#returning-a-view-versus-a-copy\n",
      "  self.data['cov:c'] = 1\n",
      "/home/jupyter/arda/arda-datasets/school/datamarket.py:202: SettingWithCopyWarning: \n",
      "A value is trying to be set on a copy of a slice from a DataFrame.\n",
      "Try using .loc[row_indexer,col_indexer] = value instead\n",
      "\n",
      "See the caveats in the documentation: https://pandas.pydata.org/pandas-docs/stable/user_guide/indexing.html#returning-a-view-versus-a-copy\n",
      "  self.data['cov:Q:' + tablename + \":\" + attributes[i] + \",\"+ tablename + \":\" + attributes[j]] = self.data[attributes[i]] * self.data[attributes[j]]\n"
     ]
    }
   ],
   "source": [
    "f1_bits = feature_partition_bits(\"f1\",8)\n",
    "f2_bits = feature_partition_bits(\"f2\",8)\n",
    "sellers = []\n",
    "partition = []\n",
    "for i in range(len(f1_bits)):\n",
    "    for j in range(len(f2_bits)):\n",
    "        bit1 = f1_bits[i]\n",
    "        bit2 = f2_bits[j]\n",
    "        p = df[bit1 & bit2]\n",
    "        if len(p) == 0:\n",
    "            continue\n",
    "        partition.append(p.copy())\n",
    "        aggdata = agg_dataset()\n",
    "        aggdata.load(p, [\"f1\",\"f2\",\"result\"], [], \"\")\n",
    "        aggdata.compute_agg(True)\n",
    "        sellers.append((aggdata, str(i) + \",\" + str(j)))"
   ]
  },
  {
   "cell_type": "code",
   "execution_count": 36,
   "id": "221445a6",
   "metadata": {},
   "outputs": [
    {
     "name": "stdout",
     "output_type": "stream",
     "text": [
      "0\n",
      "CPU times: user 9.36 ms, sys: 250 µs, total: 9.61 ms\n",
      "Wall time: 8.41 ms\n"
     ]
    }
   ],
   "source": [
    "%%time\n",
    "## our factorized\n",
    "bought = set()\n",
    "# bought.add(0)\n",
    "# cur_cov = sellers[0][0].covariance.copy()\n",
    "cur_cov = None\n",
    "for _ in range(1):\n",
    "    best_id = 0\n",
    "    best_r2 = -100\n",
    "    for i in range(len(sellers)):\n",
    "        if i in bought:\n",
    "            continue\n",
    "        seller, name = sellers[i]\n",
    "        sellerc = seller.covariance.copy()\n",
    "        if cur_cov is not None:\n",
    "            sellerc += cur_cov\n",
    "        parameter = linear_regression(sellerc,[\":f1\",\":f2\"], \":result\")\n",
    "        curr2 = r2(testdata.covariance, [\":f1\",\":f2\"], \":result\", parameter)\n",
    "#         print(curr2,name)\n",
    "        if curr2 > best_r2:\n",
    "            best_r2, best_id = curr2, i\n",
    "            \n",
    "    print(best_id)\n",
    "    bought.add(best_id)\n",
    "    if cur_cov is not None:\n",
    "        cur_cov += sellers[i][0].covariance\n",
    "    else:\n",
    "        cur_cov = sellers[i][0].covariance.copy()"
   ]
  },
  {
   "cell_type": "code",
   "execution_count": 86,
   "id": "6a6969c2",
   "metadata": {},
   "outputs": [
    {
     "name": "stdout",
     "output_type": "stream",
     "text": [
      "0.9979083873666597 0\n",
      "0.9987295134036336 1\n",
      "0.998831229546517 2\n",
      "0.9921259842519685 3\n",
      "0.9985513544835579 4\n",
      "0.9993167843315873 5\n",
      "0.9993109151047409 6\n",
      "0.9989326375711575 7\n",
      "0.9990344694409578 8\n",
      "0.9989254244573393 9\n",
      "0.9983385944509054 10\n",
      "0.9991264849755416 11\n",
      "0.9992252266212133 12\n",
      "0.9991500934897162 13\n",
      "0.9990186457311089 14\n",
      "0.9992229992229992 15\n",
      "0.9992097984986171 16\n",
      "0.9829545454545454 17\n",
      "0.999155476733384 18\n",
      "0.9993137994922117 19\n",
      "0.9996563455788858 20\n",
      "0.9997147177131772 21\n",
      "0.9991472427515634 22\n",
      "0.9993150215768203 23\n",
      "0.9994637207057435 24\n",
      "0.9986796936889358 25\n",
      "0.9988795518207283 26\n",
      "0.998903388529444 27\n",
      "0.9991450068399452 28\n",
      "0.9993948562783661 29\n",
      "0.9993651196749412 30\n",
      "0.9994915857440643 31\n",
      "0.9980447534216815 32\n",
      "0.9969731365872115 33\n",
      "0.9994384546271339 34\n",
      "0.9982638888888888 35\n",
      "0.9989467524868344 36\n",
      "0.9991928044280443 37\n",
      "0.995937711577522 38\n",
      "21\n",
      "CPU times: user 9.72 s, sys: 15.8 ms, total: 9.74 s\n",
      "Wall time: 9.72 s\n"
     ]
    }
   ],
   "source": [
    "%%time\n",
    "# acquisition\n",
    "current = partition[0].sample(n=10)\n",
    "current[\"label\"] = 1\n",
    "bought = set()\n",
    "for _ in range(1):\n",
    "    best_id = 0\n",
    "    best_r2 = -100\n",
    "    for i in range(len(partition)):\n",
    "        if i in bought:\n",
    "            continue\n",
    "        new = partition[i].copy()\n",
    "        new[\"label\"] = 0\n",
    "        train = pd.concat([current, new])\n",
    "        X_train = train[['id', 'f1', 'f2','result']]\n",
    "        y_train = train['label']\n",
    "        neigh = KNeighborsClassifier(n_neighbors=3)\n",
    "        neigh.fit(X_train, y_train)\n",
    "        curr2 = neigh.score(X_train, y_train)\n",
    "        print(curr2, i)\n",
    "        if curr2 > best_r2:\n",
    "            best_r2, best_id = curr2, i\n",
    "\n",
    "    print(best_id)\n",
    "    bought.add(best_id)\n",
    "    new = partition[best_id].copy()\n",
    "    new[\"label\"] = 0\n",
    "    current = pd.concat([current, new])"
   ]
  },
  {
   "cell_type": "code",
   "execution_count": 70,
   "id": "f00473ed",
   "metadata": {},
   "outputs": [
    {
     "data": {
      "text/html": [
       "<div>\n",
       "<style scoped>\n",
       "    .dataframe tbody tr th:only-of-type {\n",
       "        vertical-align: middle;\n",
       "    }\n",
       "\n",
       "    .dataframe tbody tr th {\n",
       "        vertical-align: top;\n",
       "    }\n",
       "\n",
       "    .dataframe thead th {\n",
       "        text-align: right;\n",
       "    }\n",
       "</style>\n",
       "<table border=\"1\" class=\"dataframe\">\n",
       "  <thead>\n",
       "    <tr style=\"text-align: right;\">\n",
       "      <th></th>\n",
       "      <th>id</th>\n",
       "      <th>f1</th>\n",
       "      <th>f2</th>\n",
       "      <th>result</th>\n",
       "    </tr>\n",
       "  </thead>\n",
       "  <tbody>\n",
       "    <tr>\n",
       "      <th>3897</th>\n",
       "      <td>102587265</td>\n",
       "      <td>8.523908</td>\n",
       "      <td>56.645724</td>\n",
       "      <td>22.494156</td>\n",
       "    </tr>\n",
       "    <tr>\n",
       "      <th>3898</th>\n",
       "      <td>102587265</td>\n",
       "      <td>8.523499</td>\n",
       "      <td>56.646003</td>\n",
       "      <td>20.712217</td>\n",
       "    </tr>\n",
       "    <tr>\n",
       "      <th>4056</th>\n",
       "      <td>102587286</td>\n",
       "      <td>8.523766</td>\n",
       "      <td>56.646918</td>\n",
       "      <td>19.912918</td>\n",
       "    </tr>\n",
       "    <tr>\n",
       "      <th>4057</th>\n",
       "      <td>102587286</td>\n",
       "      <td>8.523638</td>\n",
       "      <td>56.646542</td>\n",
       "      <td>20.189207</td>\n",
       "    </tr>\n",
       "    <tr>\n",
       "      <th>4058</th>\n",
       "      <td>102587286</td>\n",
       "      <td>8.523524</td>\n",
       "      <td>56.646492</td>\n",
       "      <td>20.155700</td>\n",
       "    </tr>\n",
       "    <tr>\n",
       "      <th>...</th>\n",
       "      <td>...</td>\n",
       "      <td>...</td>\n",
       "      <td>...</td>\n",
       "      <td>...</td>\n",
       "    </tr>\n",
       "    <tr>\n",
       "      <th>434005</th>\n",
       "      <td>126527872</td>\n",
       "      <td>8.173375</td>\n",
       "      <td>56.630836</td>\n",
       "      <td>1.764131</td>\n",
       "    </tr>\n",
       "    <tr>\n",
       "      <th>434006</th>\n",
       "      <td>126527872</td>\n",
       "      <td>8.172764</td>\n",
       "      <td>56.630902</td>\n",
       "      <td>1.338380</td>\n",
       "    </tr>\n",
       "    <tr>\n",
       "      <th>434039</th>\n",
       "      <td>126527886</td>\n",
       "      <td>8.177638</td>\n",
       "      <td>56.622903</td>\n",
       "      <td>1.355110</td>\n",
       "    </tr>\n",
       "    <tr>\n",
       "      <th>434040</th>\n",
       "      <td>126527886</td>\n",
       "      <td>8.177341</td>\n",
       "      <td>56.622909</td>\n",
       "      <td>1.438666</td>\n",
       "    </tr>\n",
       "    <tr>\n",
       "      <th>434041</th>\n",
       "      <td>126527886</td>\n",
       "      <td>8.175700</td>\n",
       "      <td>56.623181</td>\n",
       "      <td>1.086115</td>\n",
       "    </tr>\n",
       "  </tbody>\n",
       "</table>\n",
       "<p>4771 rows × 4 columns</p>\n",
       "</div>"
      ],
      "text/plain": [
       "               id        f1         f2     result\n",
       "3897    102587265  8.523908  56.645724  22.494156\n",
       "3898    102587265  8.523499  56.646003  20.712217\n",
       "4056    102587286  8.523766  56.646918  19.912918\n",
       "4057    102587286  8.523638  56.646542  20.189207\n",
       "4058    102587286  8.523524  56.646492  20.155700\n",
       "...           ...       ...        ...        ...\n",
       "434005  126527872  8.173375  56.630836   1.764131\n",
       "434006  126527872  8.172764  56.630902   1.338380\n",
       "434039  126527886  8.177638  56.622903   1.355110\n",
       "434040  126527886  8.177341  56.622909   1.438666\n",
       "434041  126527886  8.175700  56.623181   1.086115\n",
       "\n",
       "[4771 rows x 4 columns]"
      ]
     },
     "execution_count": 70,
     "metadata": {},
     "output_type": "execute_result"
    }
   ],
   "source": [
    "# build train from bought\n",
    "train = pd.concat([partition[i] for i in bought])\n",
    "train"
   ]
  },
  {
   "cell_type": "code",
   "execution_count": 38,
   "id": "41a6f306",
   "metadata": {},
   "outputs": [],
   "source": [
    "time = 2*60"
   ]
  },
  {
   "cell_type": "code",
   "execution_count": 87,
   "id": "998523d7",
   "metadata": {},
   "outputs": [
    {
     "name": "stdout",
     "output_type": "stream",
     "text": [
      "[WARNING] [2022-04-15 02:35:52,613:Client-AutoML(1):buyer] Capping the per_run_time_limit to 59.0 to have time for a least 2 models in each process.\n"
     ]
    },
    {
     "data": {
      "text/plain": [
       "AutoSklearnRegressor(memory_limit=23072, per_run_time_limit=60,\n",
       "                     time_left_for_this_task=120)"
      ]
     },
     "execution_count": 87,
     "metadata": {},
     "output_type": "execute_result"
    }
   ],
   "source": [
    "# model performance with autoML \n",
    "X_train = train[['id', 'f1', 'f2']]\n",
    "y_train = train['result']\n",
    "X_test = test[['id', 'f1', 'f2']]\n",
    "y_test = test['result']\n",
    "\n",
    "automl = autosklearn.regression.AutoSklearnRegressor(\n",
    "# automl = autosklearn.classification.AutoSklearnClassifier(\n",
    "    time_left_for_this_task=int(time),\n",
    "    per_run_time_limit=int(time/2),\n",
    "    memory_limit=23072\n",
    "#     ,metric=autosklearn.metrics.r2\n",
    ")\n",
    "\n",
    "automl.fit(X_train, y_train, X_test, y_test, dataset_name='buyer')"
   ]
  },
  {
   "cell_type": "code",
   "execution_count": 88,
   "id": "01cd1782",
   "metadata": {},
   "outputs": [
    {
     "name": "stdout",
     "output_type": "stream",
     "text": [
      "Train R2 score: 0.7734465131487456\n",
      "Test R2 score: -0.23158420316571227\n"
     ]
    }
   ],
   "source": [
    "train_predictions = automl.predict(X_train)\n",
    "print(\"Train R2 score:\", sklearn.metrics.r2_score(y_train, train_predictions))\n",
    "test_predictions = automl.predict(X_test)\n",
    "print(\"Test R2 score:\", sklearn.metrics.r2_score(y_test, test_predictions))"
   ]
  },
  {
   "cell_type": "code",
   "execution_count": 6,
   "id": "4572b49e",
   "metadata": {},
   "outputs": [
    {
     "name": "stdout",
     "output_type": "stream",
     "text": [
      "Train R2 score: 0.9947082885941484\n",
      "Test R2 score: 0.9945875449332469\n"
     ]
    }
   ],
   "source": [
    "train_predictions = automl.predict(X_train)\n",
    "print(\"Train R2 score:\", sklearn.metrics.r2_score(y_train, train_predictions))\n",
    "test_predictions = automl.predict(X_test)\n",
    "print(\"Test R2 score:\", sklearn.metrics.r2_score(y_test, test_predictions))"
   ]
  }
 ],
 "metadata": {
  "environment": {
   "name": "common-cpu.m79",
   "type": "gcloud",
   "uri": "gcr.io/deeplearning-platform-release/base-cpu:m79"
  },
  "kernelspec": {
   "display_name": "Python 3",
   "language": "python",
   "name": "python3"
  },
  "language_info": {
   "codemirror_mode": {
    "name": "ipython",
    "version": 3
   },
   "file_extension": ".py",
   "mimetype": "text/x-python",
   "name": "python",
   "nbconvert_exporter": "python",
   "pygments_lexer": "ipython3",
   "version": "3.7.10"
  }
 },
 "nbformat": 4,
 "nbformat_minor": 5
}
