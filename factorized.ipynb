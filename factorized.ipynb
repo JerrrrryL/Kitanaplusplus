{
 "cells": [
  {
   "cell_type": "code",
   "execution_count": 1,
   "id": "e81b8b0e",
   "metadata": {},
   "outputs": [],
   "source": [
    "from datamarket import *"
   ]
  },
  {
   "cell_type": "code",
   "execution_count": 2,
   "id": "0c0ee0f9",
   "metadata": {},
   "outputs": [],
   "source": [
    "dimensions = 4\n",
    "dimensions_size = 30"
   ]
  },
  {
   "cell_type": "code",
   "execution_count": 3,
   "id": "cc47c683",
   "metadata": {},
   "outputs": [],
   "source": [
    "# 1st dimension is A, 2nd dimension is B, ...\n",
    "def get_dimension_name(d):\n",
    "    return chr(ord('A') + d)\n",
    "\n",
    "def generate_dimension_table(d):\n",
    "    name = get_dimension_name(d)\n",
    "    df = pd.DataFrame()\n",
    "    df[name] = range(dimensions_size)\n",
    "    df[name + \"_att\"] = choices(range(50), k=dimensions_size)\n",
    "    return df"
   ]
  },
  {
   "cell_type": "code",
   "execution_count": 4,
   "id": "dd40f97f",
   "metadata": {},
   "outputs": [],
   "source": [
    "dimention_tables = []\n",
    "for i in range(dimensions):\n",
    "    dimention_tables.append(generate_dimension_table(i))\n",
    "\n",
    "fact_table = pd.DataFrame()\n",
    "for d in range(dimensions):\n",
    "    name = get_dimension_name(d)\n",
    "    fact_table[name] = [item for item in range(dimensions_size) for i in range(int(pow(dimensions_size,d)))] * int(pow(dimensions_size,dimensions - 1 - d))\n",
    "\n",
    "# join fact table with dimension tables\n",
    "join_result = None\n",
    "for i in range(dimensions):\n",
    "    if i == 0:\n",
    "        join_result = pd.merge(fact_table, dimention_tables[0])\n",
    "    else:\n",
    "        join_result = pd.merge(join_result, dimention_tables[i])"
   ]
  },
  {
   "cell_type": "code",
   "execution_count": 5,
   "id": "5b407109",
   "metadata": {},
   "outputs": [
    {
     "data": {
      "text/html": [
       "<div>\n",
       "<style scoped>\n",
       "    .dataframe tbody tr th:only-of-type {\n",
       "        vertical-align: middle;\n",
       "    }\n",
       "\n",
       "    .dataframe tbody tr th {\n",
       "        vertical-align: top;\n",
       "    }\n",
       "\n",
       "    .dataframe thead th {\n",
       "        text-align: right;\n",
       "    }\n",
       "</style>\n",
       "<table border=\"1\" class=\"dataframe\">\n",
       "  <thead>\n",
       "    <tr style=\"text-align: right;\">\n",
       "      <th></th>\n",
       "      <th>A</th>\n",
       "      <th>B</th>\n",
       "      <th>C</th>\n",
       "      <th>D</th>\n",
       "      <th>A_att</th>\n",
       "      <th>B_att</th>\n",
       "      <th>C_att</th>\n",
       "      <th>D_att</th>\n",
       "      <th>result</th>\n",
       "    </tr>\n",
       "  </thead>\n",
       "  <tbody>\n",
       "    <tr>\n",
       "      <th>0</th>\n",
       "      <td>0</td>\n",
       "      <td>0</td>\n",
       "      <td>0</td>\n",
       "      <td>0</td>\n",
       "      <td>13</td>\n",
       "      <td>27</td>\n",
       "      <td>8</td>\n",
       "      <td>38</td>\n",
       "      <td>2406</td>\n",
       "    </tr>\n",
       "    <tr>\n",
       "      <th>1</th>\n",
       "      <td>1</td>\n",
       "      <td>0</td>\n",
       "      <td>0</td>\n",
       "      <td>0</td>\n",
       "      <td>2</td>\n",
       "      <td>27</td>\n",
       "      <td>8</td>\n",
       "      <td>38</td>\n",
       "      <td>2241</td>\n",
       "    </tr>\n",
       "    <tr>\n",
       "      <th>2</th>\n",
       "      <td>2</td>\n",
       "      <td>0</td>\n",
       "      <td>0</td>\n",
       "      <td>0</td>\n",
       "      <td>31</td>\n",
       "      <td>27</td>\n",
       "      <td>8</td>\n",
       "      <td>38</td>\n",
       "      <td>3198</td>\n",
       "    </tr>\n",
       "    <tr>\n",
       "      <th>3</th>\n",
       "      <td>3</td>\n",
       "      <td>0</td>\n",
       "      <td>0</td>\n",
       "      <td>0</td>\n",
       "      <td>11</td>\n",
       "      <td>27</td>\n",
       "      <td>8</td>\n",
       "      <td>38</td>\n",
       "      <td>2358</td>\n",
       "    </tr>\n",
       "    <tr>\n",
       "      <th>4</th>\n",
       "      <td>4</td>\n",
       "      <td>0</td>\n",
       "      <td>0</td>\n",
       "      <td>0</td>\n",
       "      <td>4</td>\n",
       "      <td>27</td>\n",
       "      <td>8</td>\n",
       "      <td>38</td>\n",
       "      <td>2253</td>\n",
       "    </tr>\n",
       "    <tr>\n",
       "      <th>...</th>\n",
       "      <td>...</td>\n",
       "      <td>...</td>\n",
       "      <td>...</td>\n",
       "      <td>...</td>\n",
       "      <td>...</td>\n",
       "      <td>...</td>\n",
       "      <td>...</td>\n",
       "      <td>...</td>\n",
       "      <td>...</td>\n",
       "    </tr>\n",
       "    <tr>\n",
       "      <th>809995</th>\n",
       "      <td>25</td>\n",
       "      <td>29</td>\n",
       "      <td>29</td>\n",
       "      <td>29</td>\n",
       "      <td>6</td>\n",
       "      <td>49</td>\n",
       "      <td>17</td>\n",
       "      <td>34</td>\n",
       "      <td>3882</td>\n",
       "    </tr>\n",
       "    <tr>\n",
       "      <th>809996</th>\n",
       "      <td>26</td>\n",
       "      <td>29</td>\n",
       "      <td>29</td>\n",
       "      <td>29</td>\n",
       "      <td>2</td>\n",
       "      <td>49</td>\n",
       "      <td>17</td>\n",
       "      <td>34</td>\n",
       "      <td>3850</td>\n",
       "    </tr>\n",
       "    <tr>\n",
       "      <th>809997</th>\n",
       "      <td>27</td>\n",
       "      <td>29</td>\n",
       "      <td>29</td>\n",
       "      <td>29</td>\n",
       "      <td>36</td>\n",
       "      <td>49</td>\n",
       "      <td>17</td>\n",
       "      <td>34</td>\n",
       "      <td>5142</td>\n",
       "    </tr>\n",
       "    <tr>\n",
       "      <th>809998</th>\n",
       "      <td>28</td>\n",
       "      <td>29</td>\n",
       "      <td>29</td>\n",
       "      <td>29</td>\n",
       "      <td>41</td>\n",
       "      <td>49</td>\n",
       "      <td>17</td>\n",
       "      <td>34</td>\n",
       "      <td>5527</td>\n",
       "    </tr>\n",
       "    <tr>\n",
       "      <th>809999</th>\n",
       "      <td>29</td>\n",
       "      <td>29</td>\n",
       "      <td>29</td>\n",
       "      <td>29</td>\n",
       "      <td>5</td>\n",
       "      <td>49</td>\n",
       "      <td>17</td>\n",
       "      <td>34</td>\n",
       "      <td>3871</td>\n",
       "    </tr>\n",
       "  </tbody>\n",
       "</table>\n",
       "<p>810000 rows × 9 columns</p>\n",
       "</div>"
      ],
      "text/plain": [
       "         A   B   C   D  A_att  B_att  C_att  D_att  result\n",
       "0        0   0   0   0     13     27      8     38    2406\n",
       "1        1   0   0   0      2     27      8     38    2241\n",
       "2        2   0   0   0     31     27      8     38    3198\n",
       "3        3   0   0   0     11     27      8     38    2358\n",
       "4        4   0   0   0      4     27      8     38    2253\n",
       "...     ..  ..  ..  ..    ...    ...    ...    ...     ...\n",
       "809995  25  29  29  29      6     49     17     34    3882\n",
       "809996  26  29  29  29      2     49     17     34    3850\n",
       "809997  27  29  29  29     36     49     17     34    5142\n",
       "809998  28  29  29  29     41     49     17     34    5527\n",
       "809999  29  29  29  29      5     49     17     34    3871\n",
       "\n",
       "[810000 rows x 9 columns]"
      ]
     },
     "execution_count": 5,
     "metadata": {},
     "output_type": "execute_result"
    }
   ],
   "source": [
    "join_result[\"result\"] = 0\n",
    "for i in range(dimensions):\n",
    "    name = get_dimension_name(i)\n",
    "    join_result[\"result\"] += join_result[name + \"_att\"] * join_result[name + \"_att\"]\n",
    "join_result"
   ]
  },
  {
   "cell_type": "code",
   "execution_count": 6,
   "id": "127cb9b2",
   "metadata": {},
   "outputs": [],
   "source": [
    "# this vary the buyer and seller data cardinality\n",
    "train = pd.concat([join_result])\n",
    "seller =  pd.concat([join_result])\n",
    "# train = pd.concat([join_result,join_result,join_result,join_result])"
   ]
  },
  {
   "cell_type": "code",
   "execution_count": 8,
   "id": "d3015265",
   "metadata": {},
   "outputs": [
    {
     "name": "stdout",
     "output_type": "stream",
     "text": [
      "CPU times: user 305 ms, sys: 208 ms, total: 513 ms\n",
      "Wall time: 511 ms\n"
     ]
    }
   ],
   "source": [
    "%%time\n",
    "# for market bootstrap\n",
    "h_data = agg_dataset()\n",
    "h_data.load(seller, [\"A_att\", \"B_att\", \"C_att\", \"result\"], [\"A\"], \"gender\")\n",
    "h_data.compute_agg()"
   ]
  },
  {
   "cell_type": "code",
   "execution_count": 9,
   "id": "a6ef80aa",
   "metadata": {},
   "outputs": [],
   "source": [
    "train_data = agg_dataset()\n",
    "train_data.load(train, [\"A_att\", \"B_att\", \"C_att\", \"result\"], [\"A\"], \"gender\")\n",
    "train_data.compute_agg()"
   ]
  },
  {
   "cell_type": "code",
   "execution_count": 10,
   "id": "f5aeb597",
   "metadata": {},
   "outputs": [
    {
     "name": "stdout",
     "output_type": "stream",
     "text": [
      "CPU times: user 488 µs, sys: 148 µs, total: 636 µs\n",
      "Wall time: 645 µs\n"
     ]
    }
   ],
   "source": [
    "%%time\n",
    "# for vertical augmentation with factorized learning\n",
    "horizontal_cov = train_data.covariance + h_data.covariance\n",
    "parameter = linear_regression(horizontal_cov,[\"gender:A_att\", \"gender:B_att\"], \"gender:result\")"
   ]
  },
  {
   "cell_type": "code",
   "execution_count": 12,
   "id": "f1cbb60d",
   "metadata": {},
   "outputs": [
    {
     "name": "stdout",
     "output_type": "stream",
     "text": [
      "CPU times: user 959 ms, sys: 1.02 s, total: 1.98 s\n",
      "Wall time: 788 ms\n"
     ]
    }
   ],
   "source": [
    "%%time\n",
    "# this is for naively train linear regression\n",
    "train = pd.concat([join_result, join_result, join_result, join_result, join_result])\n",
    "reg = LinearRegression().fit(train[[\"A_att\", \"B_att\", \"C_att\", \"D_att\"]], train[\"result\"])"
   ]
  },
  {
   "cell_type": "code",
   "execution_count": 28,
   "id": "cf434d92",
   "metadata": {},
   "outputs": [],
   "source": [
    "vertical_aug =  pd.concat([dimention_tables[2]])\n",
    "vertical_data = agg_dataset()\n",
    "vertical_data.load(vertical_aug, [\"C_att\"], [\"C\"], \"gender\")\n",
    "vertical_data.remove_redundant_columns()\n",
    "vertical_data.compute_agg()"
   ]
  },
  {
   "cell_type": "code",
   "execution_count": 29,
   "id": "f410e123",
   "metadata": {},
   "outputs": [],
   "source": [
    "train = pd.concat([join_result])\n",
    "train_data = agg_dataset()\n",
    "train_data.load(train, [\"A_att\", \"B_att\", \"result\"], [\"C\"], \"gender\")\n",
    "train_data.compute_agg()"
   ]
  },
  {
   "cell_type": "code",
   "execution_count": 30,
   "id": "b2a3dc32",
   "metadata": {},
   "outputs": [
    {
     "name": "stdout",
     "output_type": "stream",
     "text": [
      "CPU times: user 51.9 ms, sys: 23.9 ms, total: 75.8 ms\n",
      "Wall time: 74 ms\n"
     ]
    },
    {
     "name": "stderr",
     "output_type": "stream",
     "text": [
      "/home/jupyter/arda/arda-datasets/kitana/datamarket.py:384: FutureWarning: In a future version of pandas all arguments of DataFrame.drop except for the argument 'labels' will be keyword-only\n",
      "  join.drop('cov:c_y', 1, inplace=True)\n"
     ]
    },
    {
     "data": {
      "text/plain": [
       "array([4.25317685e+01, 5.14802745e+01, 1.23321207e-04, 1.06280850e+03])"
      ]
     },
     "execution_count": 30,
     "metadata": {},
     "output_type": "execute_result"
    }
   ],
   "source": [
    "%%time\n",
    "# vertical augmentation\n",
    "join_cov = connect(train_data, vertical_data, \"C\").sum()\n",
    "linear_regression(join_cov,[\"gender:A_att\", \"gender:B_att\", \"gender:C_att\"], \"gender:result\")"
   ]
  },
  {
   "cell_type": "code",
   "execution_count": 20,
   "id": "196a0977",
   "metadata": {},
   "outputs": [],
   "source": [
    "# vertical_aug =  pd.concat([dimention_tables[2]])\n",
    "train = pd.concat([join_result,join_result,join_result,join_result])"
   ]
  },
  {
   "cell_type": "code",
   "execution_count": 21,
   "id": "efe6166c",
   "metadata": {},
   "outputs": [
    {
     "name": "stdout",
     "output_type": "stream",
     "text": [
      "CPU times: user 108 ms, sys: 0 ns, total: 108 ms\n",
      "Wall time: 106 ms\n"
     ]
    }
   ],
   "source": [
    "%%time\n",
    "join = pd.merge(train,vertical_aug, left_on=\"C\", right_on=\"C\")\n",
    "reg = LinearRegression().fit(join[[\"A_att\", \"B_att\", \"C_att_x\", \"D_att\"]], join[\"result\"])"
   ]
  },
  {
   "cell_type": "code",
   "execution_count": 31,
   "id": "2a10446b",
   "metadata": {},
   "outputs": [
    {
     "data": {
      "text/plain": [
       "810000"
      ]
     },
     "execution_count": 31,
     "metadata": {},
     "output_type": "execute_result"
    }
   ],
   "source": [
    "# vary the domain size of join key\n",
    "dom = 202500*4\n",
    "join_result[\"C\"] = [item for item in range(dom) for i in range(2)][:810000]\n",
    "dom"
   ]
  },
  {
   "cell_type": "code",
   "execution_count": 32,
   "id": "8484702b",
   "metadata": {},
   "outputs": [],
   "source": [
    "train_data = agg_dataset()\n",
    "train_data.load(join_result.copy(), [\"A_att\", \"B_att\", \"D_att\",\"result\"], [\"C\"], \"gender\")\n",
    "train_data.compute_agg()"
   ]
  },
  {
   "cell_type": "code",
   "execution_count": 39,
   "id": "9ad248ed",
   "metadata": {},
   "outputs": [],
   "source": [
    "vertical_aug = pd.DataFrame()\n",
    "vertical_aug[\"C\"] = [item for item in range(dom)]\n",
    "vertical_aug[\"C_att\"] = choices(range(50), k=len(vertical_aug))\n",
    "\n",
    "vertical_data = agg_dataset()\n",
    "vertical_data.load(vertical_aug.copy(), [\"C_att\"], [\"C\"], \"gender\")\n",
    "vertical_data.remove_redundant_columns()\n",
    "vertical_data.compute_agg()"
   ]
  },
  {
   "cell_type": "code",
   "execution_count": 40,
   "id": "7f09596c",
   "metadata": {},
   "outputs": [
    {
     "name": "stdout",
     "output_type": "stream",
     "text": [
      "CPU times: user 102 ms, sys: 24.8 ms, total: 127 ms\n",
      "Wall time: 125 ms\n"
     ]
    },
    {
     "data": {
      "text/plain": [
       "array([ 4.25317847e+01,  5.14802851e+01, -2.10390350e-02,  1.06332605e+03])"
      ]
     },
     "execution_count": 40,
     "metadata": {},
     "output_type": "execute_result"
    }
   ],
   "source": [
    "%%time\n",
    "join_cov = connect(train_data, vertical_data, \"C\").sum()\n",
    "linear_regression(join_cov,[\"gender:A_att\", \"gender:B_att\", \"gender:C_att\"], \"gender:result\")"
   ]
  },
  {
   "cell_type": "code",
   "execution_count": 44,
   "id": "c9f2f13b",
   "metadata": {},
   "outputs": [
    {
     "name": "stdout",
     "output_type": "stream",
     "text": [
      "CPU times: user 254 ms, sys: 50.3 ms, total: 304 ms\n",
      "Wall time: 302 ms\n"
     ]
    }
   ],
   "source": [
    "%%time\n",
    "join = pd.merge(join_result,vertical_aug, left_on=\"C\", right_on=\"C\")\n",
    "reg = LinearRegression().fit(join[[\"A_att\", \"B_att\", \"C_att_x\", \"D_att\"]], join[\"result\"])"
   ]
  },
  {
   "cell_type": "code",
   "execution_count": null,
   "id": "93ad1569",
   "metadata": {},
   "outputs": [],
   "source": []
  }
 ],
 "metadata": {
  "environment": {
   "name": "common-cpu.m79",
   "type": "gcloud",
   "uri": "gcr.io/deeplearning-platform-release/base-cpu:m79"
  },
  "kernelspec": {
   "display_name": "Python [conda env:root] *",
   "language": "python",
   "name": "conda-root-py"
  },
  "language_info": {
   "codemirror_mode": {
    "name": "ipython",
    "version": 3
   },
   "file_extension": ".py",
   "mimetype": "text/x-python",
   "name": "python",
   "nbconvert_exporter": "python",
   "pygments_lexer": "ipython3",
   "version": "3.7.10"
  }
 },
 "nbformat": 4,
 "nbformat_minor": 5
}
